{
 "cells": [
  {
   "cell_type": "markdown",
   "id": "73f22d29",
   "metadata": {},
   "source": [
    "# `kl_divergence_profile` function walkthrough\n",
    "This function calculates the Kullback-Leiber (KL) divergence of different areas and the total population, in order to create a divergence profile across the whole area. This provides a multi-scalar measurement of the segregation, understanding how each area of a population interacts with those areas in close and distant proximity to it.\n",
    "\n",
    "For theoretical background to this methodology, please see the [Olteanu et al. (2019)](https://doi.org/10.1073/pnas.1900192116) article that inspired the creation of this function within PySAL's library.\n",
    "\n",
    "Many thanks to the work of [Cécile de Bézenac](https://github.com/ceciledebezenac/segregation_index), who's primary iteration of a wrapped code to compute this metric was incredibly helpful in directing this function's interpretation."
   ]
  },
  {
   "cell_type": "markdown",
   "id": "73e3c286",
   "metadata": {},
   "source": [
    "## Contents\n",
    "1. **[The function](#The-function)** - the full function from the PySAL library\n",
    "\n",
    "\n",
    "2. **[Cincinnati example dataset](#Cincinnati-(cincin)-example-dataset)** - an overview of the example dataset used in the walkthrough, and creating the different forms of input acceptable for the data\n",
    "\n",
    "\n",
    "2. **[Making the function work](#Making-the-function-work)** - providing the functions with the correct inputs to ensure that this will run successfully\n",
    "\n",
    "\n",
    "3. **[Using the outputs](#Using-the-outputs)** - how the outputs can be deconstructed to create useful visualisations\n",
    "\n",
    "\n",
    "4. **[How the function works](#How-the-function-works)** - taking a step-by-step work through of the inner workings of the function to understand exactly what it is doing"
   ]
  },
  {
   "cell_type": "markdown",
   "id": "666242aa",
   "metadata": {},
   "source": [
    "## The function"
   ]
  },
  {
   "cell_type": "code",
   "execution_count": 1,
   "id": "318b6aae",
   "metadata": {},
   "outputs": [],
   "source": [
    "import numpy as np\n",
    "import geopandas as gpd\n",
    "import pandas as pd\n",
    "\n",
    "from scipy.spatial.distance import pdist, squareform\n",
    "from scipy.special import rel_entr as relative_entropy\n",
    "\n",
    "\n",
    "def kl_divergence_profile(populations, coordinates = None, metric = 'euclidean'):\n",
    "    \"\"\"\n",
    "    A segregation metric, using Kullback-Leiber (KL) divergence to quantify the\n",
    "    difference in the population characteristics between (1) an area and (2) the total population.\n",
    "\n",
    "    This function utilises the methodology proposed in\n",
    "    Olteanu et al. (2019): 'Segregation through the multiscalar lens'. Which can be\n",
    "    found here: https://doi.org/10.1073/pnas.1900192116\n",
    "\n",
    "    Arguments\n",
    "    ----------\n",
    "    populations : GeoPandas GeoDataFrame object\n",
    "                  Pandas DataFrame object\n",
    "                  NumPy Array object\n",
    "                  Population information of raw group numbers (not percentages) to be\n",
    "                  included in the analysis.\n",
    "    coordinates : GeoPandas GeoSeries object\n",
    "                  NumPy Array object\n",
    "                  Spatial information relating to the areas to be included in the analysis.\n",
    "    metric : Acceptable inputs to `scipy.spatial.distance.pdist` - including:\n",
    "             ‘braycurtis’, ‘canberra’, ‘chebyshev’, ‘cityblock’, ‘correlation’,\n",
    "             ‘cosine’, ‘dice’, ‘euclidean’, ‘hamming’, ‘jaccard’, ‘jensenshannon’,\n",
    "             ‘kulsinski’, ‘mahalanobis’, ‘matching’, ‘minkowski’, ‘rogerstanimoto’,\n",
    "             ‘russellrao’, ‘seuclidean’, ‘sokalmichener’, ‘sokalsneath’, ‘sqeuclidean’, ‘yule’.\n",
    "             Distance metric for calculating pairwise distances,\n",
    "             using `scipy.spatial.distance.pdist` - 'euclidean' by default.\n",
    "\n",
    "    Returns\n",
    "    ----------\n",
    "    observation : an identifier of the area that forms the centre of the aggregation\n",
    "                  of population, from which the divergence is calculated.\n",
    "    distance : how far the most recently aggregated area is from the 'observation'\n",
    "               area, starting at zero for each observation to represent that only the\n",
    "               'observation' area being aggregated.\n",
    "    divergence : the KL divergence measure, between the aggregated population and the\n",
    "                 total population, will converge to zero for the final row of each\n",
    "                 observation to represent that the total population is covered.\n",
    "    population_covered : the population count within the aggregated population.\n",
    "    Returns a concatenated object of Pandas dataframes. Each dataframe contains a\n",
    "    set of divergence levels between an area and the total population. These areas\n",
    "    become consecutively larger, starting from a single location and aggregating\n",
    "    outward from this location, until the area represents the total population.\n",
    "    Thus, together the divergence levels within a dataframe represent a profile\n",
    "    of divergence from an area. The concatenated object is the collection of these\n",
    "    divergence profiles for every areas within the total population.\n",
    "\n",
    "    Example\n",
    "    ----------\n",
    "    from libpysal.examples import get_path\n",
    "    from libpysal.examples import load_example\n",
    "    cincin = load_example('Cincinnati')\n",
    "    cincin.get_file_list()\n",
    "    cincin_df = gpd.read_file(cincin.get_path('cincinnati.shp'))\n",
    "    cincin_ethnicity = cincin_df[[\"WHITE\", \"BLACK\", \"AMINDIAN\", \"ASIAN\", \"HAWAIIAN\", \"OTHER_RACE\", \"geometry\"]]\n",
    "    cincin_ethnicity.head()\n",
    "    kl_divergence_profile(cincin_ethnicity)\n",
    "    \"\"\"\n",
    "    # Store the observation index to return with the results\n",
    "    if hasattr(populations, 'index'):\n",
    "        indices = populations.index\n",
    "    else:\n",
    "        indices = np.arange(len(populations))\n",
    "\n",
    "    # Check for geometry present in populations argument\n",
    "    if hasattr(populations, 'geometry'):\n",
    "        if coordinates is None:\n",
    "            coordinates = populations.geometry\n",
    "        populations = populations.drop(populations.geometry.name, axis = 1).values\n",
    "    populations = np.asarray(populations)\n",
    "\n",
    "    #  Creating consistent coordinates - GeoSeries input\n",
    "    if hasattr(coordinates,'geometry'):\n",
    "        centroids = coordinates.geometry.centroid\n",
    "        coordinates = np.column_stack((centroids.x, centroids.y))\n",
    "    #  Creating consistent coordinates - Array input\n",
    "    else:\n",
    "        assert len(coordinates) == len(populations), \"Length of coordinates input needs to be of the same length as populations input\"\n",
    "\n",
    "    # Creating distance matrix using defined metric (default euclidean distance)\n",
    "    dist_matrix = squareform(pdist(coordinates, metric = metric))\n",
    "\n",
    "    # Preparing list for results\n",
    "    results = []\n",
    "\n",
    "    # Loop to calculate KL divergence profile\n",
    "    for (i, distances) in enumerate(dist_matrix):\n",
    "\n",
    "        # Creating the q and r objects\n",
    "        sorted_indices = np.argsort(distances)\n",
    "        cumul_pop_by_group = np.cumsum(populations[sorted_indices], axis = 0)\n",
    "        obs_cumul_pop = np.sum(cumul_pop_by_group, axis = 1)[:, np.newaxis]\n",
    "        q_cumul_proportions = cumul_pop_by_group / obs_cumul_pop\n",
    "        total_pop_by_group = np.sum(populations, axis = 0, keepdims = True)\n",
    "        total_pop = np.sum(populations)\n",
    "        r_total_proportions = total_pop_by_group / total_pop\n",
    "\n",
    "        # Input q and r objects into relative entropy (KL divergence) function\n",
    "        kl_divergence = relative_entropy(q_cumul_proportions,\n",
    "                                         r_total_proportions).sum(axis = 1)\n",
    "\n",
    "        # Creating an output dataframe\n",
    "        output = pd.DataFrame().from_dict(dict(\n",
    "            observation = indices[i],\n",
    "            distance = distances[sorted_indices],\n",
    "            divergence = kl_divergence,\n",
    "            population_covered = obs_cumul_pop.sum(axis=1)\n",
    "        ))\n",
    "\n",
    "        # Append (bring together) all outputs into results list\n",
    "        results.append(output)\n",
    "\n",
    "    return(pd.concat(results))\n",
    "\n",
    "\n"
   ]
  },
  {
   "cell_type": "markdown",
   "id": "0c64ff19",
   "metadata": {},
   "source": [
    "## Cincinnati (cincin) example dataset"
   ]
  },
  {
   "cell_type": "markdown",
   "id": "9fa2a609",
   "metadata": {},
   "source": [
    "For this example, we will be using an example dataset that is available via the [`examples`](https://pysal.org/notebooks/lib/libpysal/Example_Datasets.html) package of **`libpysal`** - it is a remote dataset, originating from the GeoDa program, an output of the [Center for Spatial Data Science at the Unversity of Chicago](https://spatial.uchicago.edu).\n",
    "\n",
    "This dataset is entitled '[**2008 Cincinnati Crime + Socio-Demographics**](https://geodacenter.github.io/data-and-lab/walnut_hills/)', and contains \"*Crime and socio-demographic data for the Clifton, Walnut Hills, Evanston, and Avondale neighborhoods in Cincinnati, OH for the last 6 months of 2008*\".\n",
    "\n",
    "Throughout this workbook, we will only be inputting the socio-demographic information it possesses. The total population of Cincinnati can be broken down within the data by six different ethnic groups: *AMINDIAN* (American-Indian), *ASIAN*, *BLACK*, *HAWAIIAN*, *WHITE*, and *OTHER_RACE*.\n",
    "\n",
    "This data will be referred to it as ***cincin*** throughout."
   ]
  },
  {
   "cell_type": "markdown",
   "id": "834ae96c",
   "metadata": {},
   "source": [
    "You can read in this example dataset, and then repeat all the code in this notebook, by doing the following:"
   ]
  },
  {
   "cell_type": "code",
   "execution_count": 2,
   "id": "2d43890c",
   "metadata": {},
   "outputs": [
    {
     "name": "stdout",
     "output_type": "stream",
     "text": [
      "Example not available: Cincinnati\n",
      "Example not downloaded: Chicago parcels\n",
      "Example not downloaded: Chile Migration\n",
      "Example not downloaded: Spirals\n"
     ]
    }
   ],
   "source": [
    "import geopandas as gpd\n",
    "from libpysal.examples import get_path\n",
    "from libpysal.examples import load_example\n",
    "\n",
    "cincin = load_example('Cincinnati')\n",
    "cincin = gpd.read_file(cincin.get_path('cincinnati.shp'))\n",
    "cincin = cincin.set_index('ID')"
   ]
  },
  {
   "cell_type": "markdown",
   "id": "ad24f596",
   "metadata": {},
   "source": [
    "Having read in this shapefile - as ***cincin*** - the data required for this analysis can be collected using either a *geodataframe* (gdf) or a combination of a *dataframe* (df) and *geoseries* data."
   ]
  },
  {
   "cell_type": "code",
   "execution_count": 3,
   "id": "2295eac4",
   "metadata": {},
   "outputs": [
    {
     "data": {
      "text/html": [
       "<div>\n",
       "<style scoped>\n",
       "    .dataframe tbody tr th:only-of-type {\n",
       "        vertical-align: middle;\n",
       "    }\n",
       "\n",
       "    .dataframe tbody tr th {\n",
       "        vertical-align: top;\n",
       "    }\n",
       "\n",
       "    .dataframe thead th {\n",
       "        text-align: right;\n",
       "    }\n",
       "</style>\n",
       "<table border=\"1\" class=\"dataframe\">\n",
       "  <thead>\n",
       "    <tr style=\"text-align: right;\">\n",
       "      <th></th>\n",
       "      <th>WHITE</th>\n",
       "      <th>BLACK</th>\n",
       "      <th>AMINDIAN</th>\n",
       "      <th>ASIAN</th>\n",
       "      <th>HAWAIIAN</th>\n",
       "      <th>OTHER_RACE</th>\n",
       "      <th>geometry</th>\n",
       "    </tr>\n",
       "    <tr>\n",
       "      <th>ID</th>\n",
       "      <th></th>\n",
       "      <th></th>\n",
       "      <th></th>\n",
       "      <th></th>\n",
       "      <th></th>\n",
       "      <th></th>\n",
       "      <th></th>\n",
       "    </tr>\n",
       "  </thead>\n",
       "  <tbody>\n",
       "    <tr>\n",
       "      <th>726907.0</th>\n",
       "      <td>433.0</td>\n",
       "      <td>32.0</td>\n",
       "      <td>0.0</td>\n",
       "      <td>5.0</td>\n",
       "      <td>0.0</td>\n",
       "      <td>2.0</td>\n",
       "      <td>POLYGON ((1407302.966 415693.734, 1407473.141 ...</td>\n",
       "    </tr>\n",
       "    <tr>\n",
       "      <th>695744.0</th>\n",
       "      <td>16.0</td>\n",
       "      <td>66.0</td>\n",
       "      <td>0.0</td>\n",
       "      <td>0.0</td>\n",
       "      <td>0.0</td>\n",
       "      <td>0.0</td>\n",
       "      <td>POLYGON ((1398841.243 416718.444, 1399605.382 ...</td>\n",
       "    </tr>\n",
       "    <tr>\n",
       "      <th>695762.0</th>\n",
       "      <td>15.0</td>\n",
       "      <td>12.0</td>\n",
       "      <td>0.0</td>\n",
       "      <td>1.0</td>\n",
       "      <td>0.0</td>\n",
       "      <td>1.0</td>\n",
       "      <td>POLYGON ((1398733.468 416975.853, 1398794.240 ...</td>\n",
       "    </tr>\n",
       "    <tr>\n",
       "      <th>695780.0</th>\n",
       "      <td>12.0</td>\n",
       "      <td>103.0</td>\n",
       "      <td>0.0</td>\n",
       "      <td>0.0</td>\n",
       "      <td>0.0</td>\n",
       "      <td>2.0</td>\n",
       "      <td>POLYGON ((1399564.078 416046.633, 1399605.382 ...</td>\n",
       "    </tr>\n",
       "    <tr>\n",
       "      <th>695798.0</th>\n",
       "      <td>52.0</td>\n",
       "      <td>39.0</td>\n",
       "      <td>0.0</td>\n",
       "      <td>1.0</td>\n",
       "      <td>0.0</td>\n",
       "      <td>0.0</td>\n",
       "      <td>POLYGON ((1398841.243 416718.444, 1398733.468 ...</td>\n",
       "    </tr>\n",
       "    <tr>\n",
       "      <th>...</th>\n",
       "      <td>...</td>\n",
       "      <td>...</td>\n",
       "      <td>...</td>\n",
       "      <td>...</td>\n",
       "      <td>...</td>\n",
       "      <td>...</td>\n",
       "      <td>...</td>\n",
       "    </tr>\n",
       "    <tr>\n",
       "      <th>703629.0</th>\n",
       "      <td>5.0</td>\n",
       "      <td>102.0</td>\n",
       "      <td>0.0</td>\n",
       "      <td>0.0</td>\n",
       "      <td>1.0</td>\n",
       "      <td>2.0</td>\n",
       "      <td>POLYGON ((1401900.256 422880.130, 1401964.217 ...</td>\n",
       "    </tr>\n",
       "    <tr>\n",
       "      <th>703648.0</th>\n",
       "      <td>0.0</td>\n",
       "      <td>85.0</td>\n",
       "      <td>0.0</td>\n",
       "      <td>1.0</td>\n",
       "      <td>0.0</td>\n",
       "      <td>0.0</td>\n",
       "      <td>POLYGON ((1402856.266 422494.690, 1403591.085 ...</td>\n",
       "    </tr>\n",
       "    <tr>\n",
       "      <th>703666.0</th>\n",
       "      <td>0.0</td>\n",
       "      <td>0.0</td>\n",
       "      <td>0.0</td>\n",
       "      <td>0.0</td>\n",
       "      <td>0.0</td>\n",
       "      <td>0.0</td>\n",
       "      <td>POLYGON ((1402861.897 422749.576, 1402925.846 ...</td>\n",
       "    </tr>\n",
       "    <tr>\n",
       "      <th>703686.0</th>\n",
       "      <td>0.0</td>\n",
       "      <td>270.0</td>\n",
       "      <td>1.0</td>\n",
       "      <td>0.0</td>\n",
       "      <td>0.0</td>\n",
       "      <td>0.0</td>\n",
       "      <td>POLYGON ((1402709.472 423554.407, 1403020.559 ...</td>\n",
       "    </tr>\n",
       "    <tr>\n",
       "      <th>703708.0</th>\n",
       "      <td>10.0</td>\n",
       "      <td>43.0</td>\n",
       "      <td>1.0</td>\n",
       "      <td>0.0</td>\n",
       "      <td>0.0</td>\n",
       "      <td>0.0</td>\n",
       "      <td>POLYGON ((1402421.734 424653.671, 1402817.865 ...</td>\n",
       "    </tr>\n",
       "  </tbody>\n",
       "</table>\n",
       "<p>457 rows × 7 columns</p>\n",
       "</div>"
      ],
      "text/plain": [
       "          WHITE  BLACK  AMINDIAN  ASIAN  HAWAIIAN  OTHER_RACE  \\\n",
       "ID                                                              \n",
       "726907.0  433.0   32.0       0.0    5.0       0.0         2.0   \n",
       "695744.0   16.0   66.0       0.0    0.0       0.0         0.0   \n",
       "695762.0   15.0   12.0       0.0    1.0       0.0         1.0   \n",
       "695780.0   12.0  103.0       0.0    0.0       0.0         2.0   \n",
       "695798.0   52.0   39.0       0.0    1.0       0.0         0.0   \n",
       "...         ...    ...       ...    ...       ...         ...   \n",
       "703629.0    5.0  102.0       0.0    0.0       1.0         2.0   \n",
       "703648.0    0.0   85.0       0.0    1.0       0.0         0.0   \n",
       "703666.0    0.0    0.0       0.0    0.0       0.0         0.0   \n",
       "703686.0    0.0  270.0       1.0    0.0       0.0         0.0   \n",
       "703708.0   10.0   43.0       1.0    0.0       0.0         0.0   \n",
       "\n",
       "                                                   geometry  \n",
       "ID                                                           \n",
       "726907.0  POLYGON ((1407302.966 415693.734, 1407473.141 ...  \n",
       "695744.0  POLYGON ((1398841.243 416718.444, 1399605.382 ...  \n",
       "695762.0  POLYGON ((1398733.468 416975.853, 1398794.240 ...  \n",
       "695780.0  POLYGON ((1399564.078 416046.633, 1399605.382 ...  \n",
       "695798.0  POLYGON ((1398841.243 416718.444, 1398733.468 ...  \n",
       "...                                                     ...  \n",
       "703629.0  POLYGON ((1401900.256 422880.130, 1401964.217 ...  \n",
       "703648.0  POLYGON ((1402856.266 422494.690, 1403591.085 ...  \n",
       "703666.0  POLYGON ((1402861.897 422749.576, 1402925.846 ...  \n",
       "703686.0  POLYGON ((1402709.472 423554.407, 1403020.559 ...  \n",
       "703708.0  POLYGON ((1402421.734 424653.671, 1402817.865 ...  \n",
       "\n",
       "[457 rows x 7 columns]"
      ]
     },
     "execution_count": 3,
     "metadata": {},
     "output_type": "execute_result"
    }
   ],
   "source": [
    "cincin_gdf = cincin[[\"WHITE\", \"BLACK\", \"AMINDIAN\", \"ASIAN\", \"HAWAIIAN\", \"OTHER_RACE\", \"geometry\"]]\n",
    "cincin_gdf"
   ]
  },
  {
   "cell_type": "code",
   "execution_count": 4,
   "id": "2a75d6e2",
   "metadata": {
    "scrolled": true
   },
   "outputs": [
    {
     "data": {
      "text/html": [
       "<div>\n",
       "<style scoped>\n",
       "    .dataframe tbody tr th:only-of-type {\n",
       "        vertical-align: middle;\n",
       "    }\n",
       "\n",
       "    .dataframe tbody tr th {\n",
       "        vertical-align: top;\n",
       "    }\n",
       "\n",
       "    .dataframe thead th {\n",
       "        text-align: right;\n",
       "    }\n",
       "</style>\n",
       "<table border=\"1\" class=\"dataframe\">\n",
       "  <thead>\n",
       "    <tr style=\"text-align: right;\">\n",
       "      <th></th>\n",
       "      <th>WHITE</th>\n",
       "      <th>BLACK</th>\n",
       "      <th>AMINDIAN</th>\n",
       "      <th>ASIAN</th>\n",
       "      <th>HAWAIIAN</th>\n",
       "      <th>OTHER_RACE</th>\n",
       "    </tr>\n",
       "    <tr>\n",
       "      <th>ID</th>\n",
       "      <th></th>\n",
       "      <th></th>\n",
       "      <th></th>\n",
       "      <th></th>\n",
       "      <th></th>\n",
       "      <th></th>\n",
       "    </tr>\n",
       "  </thead>\n",
       "  <tbody>\n",
       "    <tr>\n",
       "      <th>726907.0</th>\n",
       "      <td>433.0</td>\n",
       "      <td>32.0</td>\n",
       "      <td>0.0</td>\n",
       "      <td>5.0</td>\n",
       "      <td>0.0</td>\n",
       "      <td>2.0</td>\n",
       "    </tr>\n",
       "    <tr>\n",
       "      <th>695744.0</th>\n",
       "      <td>16.0</td>\n",
       "      <td>66.0</td>\n",
       "      <td>0.0</td>\n",
       "      <td>0.0</td>\n",
       "      <td>0.0</td>\n",
       "      <td>0.0</td>\n",
       "    </tr>\n",
       "    <tr>\n",
       "      <th>695762.0</th>\n",
       "      <td>15.0</td>\n",
       "      <td>12.0</td>\n",
       "      <td>0.0</td>\n",
       "      <td>1.0</td>\n",
       "      <td>0.0</td>\n",
       "      <td>1.0</td>\n",
       "    </tr>\n",
       "    <tr>\n",
       "      <th>695780.0</th>\n",
       "      <td>12.0</td>\n",
       "      <td>103.0</td>\n",
       "      <td>0.0</td>\n",
       "      <td>0.0</td>\n",
       "      <td>0.0</td>\n",
       "      <td>2.0</td>\n",
       "    </tr>\n",
       "    <tr>\n",
       "      <th>695798.0</th>\n",
       "      <td>52.0</td>\n",
       "      <td>39.0</td>\n",
       "      <td>0.0</td>\n",
       "      <td>1.0</td>\n",
       "      <td>0.0</td>\n",
       "      <td>0.0</td>\n",
       "    </tr>\n",
       "    <tr>\n",
       "      <th>...</th>\n",
       "      <td>...</td>\n",
       "      <td>...</td>\n",
       "      <td>...</td>\n",
       "      <td>...</td>\n",
       "      <td>...</td>\n",
       "      <td>...</td>\n",
       "    </tr>\n",
       "    <tr>\n",
       "      <th>703629.0</th>\n",
       "      <td>5.0</td>\n",
       "      <td>102.0</td>\n",
       "      <td>0.0</td>\n",
       "      <td>0.0</td>\n",
       "      <td>1.0</td>\n",
       "      <td>2.0</td>\n",
       "    </tr>\n",
       "    <tr>\n",
       "      <th>703648.0</th>\n",
       "      <td>0.0</td>\n",
       "      <td>85.0</td>\n",
       "      <td>0.0</td>\n",
       "      <td>1.0</td>\n",
       "      <td>0.0</td>\n",
       "      <td>0.0</td>\n",
       "    </tr>\n",
       "    <tr>\n",
       "      <th>703666.0</th>\n",
       "      <td>0.0</td>\n",
       "      <td>0.0</td>\n",
       "      <td>0.0</td>\n",
       "      <td>0.0</td>\n",
       "      <td>0.0</td>\n",
       "      <td>0.0</td>\n",
       "    </tr>\n",
       "    <tr>\n",
       "      <th>703686.0</th>\n",
       "      <td>0.0</td>\n",
       "      <td>270.0</td>\n",
       "      <td>1.0</td>\n",
       "      <td>0.0</td>\n",
       "      <td>0.0</td>\n",
       "      <td>0.0</td>\n",
       "    </tr>\n",
       "    <tr>\n",
       "      <th>703708.0</th>\n",
       "      <td>10.0</td>\n",
       "      <td>43.0</td>\n",
       "      <td>1.0</td>\n",
       "      <td>0.0</td>\n",
       "      <td>0.0</td>\n",
       "      <td>0.0</td>\n",
       "    </tr>\n",
       "  </tbody>\n",
       "</table>\n",
       "<p>457 rows × 6 columns</p>\n",
       "</div>"
      ],
      "text/plain": [
       "          WHITE  BLACK  AMINDIAN  ASIAN  HAWAIIAN  OTHER_RACE\n",
       "ID                                                           \n",
       "726907.0  433.0   32.0       0.0    5.0       0.0         2.0\n",
       "695744.0   16.0   66.0       0.0    0.0       0.0         0.0\n",
       "695762.0   15.0   12.0       0.0    1.0       0.0         1.0\n",
       "695780.0   12.0  103.0       0.0    0.0       0.0         2.0\n",
       "695798.0   52.0   39.0       0.0    1.0       0.0         0.0\n",
       "...         ...    ...       ...    ...       ...         ...\n",
       "703629.0    5.0  102.0       0.0    0.0       1.0         2.0\n",
       "703648.0    0.0   85.0       0.0    1.0       0.0         0.0\n",
       "703666.0    0.0    0.0       0.0    0.0       0.0         0.0\n",
       "703686.0    0.0  270.0       1.0    0.0       0.0         0.0\n",
       "703708.0   10.0   43.0       1.0    0.0       0.0         0.0\n",
       "\n",
       "[457 rows x 6 columns]"
      ]
     },
     "execution_count": 4,
     "metadata": {},
     "output_type": "execute_result"
    }
   ],
   "source": [
    "cincin_df = cincin[[\"WHITE\", \"BLACK\", \"AMINDIAN\", \"ASIAN\", \"HAWAIIAN\", \"OTHER_RACE\"]]\n",
    "cincin_df"
   ]
  },
  {
   "cell_type": "code",
   "execution_count": 5,
   "id": "f8dc7e9e",
   "metadata": {},
   "outputs": [
    {
     "data": {
      "text/html": [
       "<div>\n",
       "<style scoped>\n",
       "    .dataframe tbody tr th:only-of-type {\n",
       "        vertical-align: middle;\n",
       "    }\n",
       "\n",
       "    .dataframe tbody tr th {\n",
       "        vertical-align: top;\n",
       "    }\n",
       "\n",
       "    .dataframe thead th {\n",
       "        text-align: right;\n",
       "    }\n",
       "</style>\n",
       "<table border=\"1\" class=\"dataframe\">\n",
       "  <thead>\n",
       "    <tr style=\"text-align: right;\">\n",
       "      <th></th>\n",
       "      <th>geometry</th>\n",
       "    </tr>\n",
       "    <tr>\n",
       "      <th>ID</th>\n",
       "      <th></th>\n",
       "    </tr>\n",
       "  </thead>\n",
       "  <tbody>\n",
       "    <tr>\n",
       "      <th>726907.0</th>\n",
       "      <td>POLYGON ((1407302.966 415693.734, 1407473.141 ...</td>\n",
       "    </tr>\n",
       "    <tr>\n",
       "      <th>695744.0</th>\n",
       "      <td>POLYGON ((1398841.243 416718.444, 1399605.382 ...</td>\n",
       "    </tr>\n",
       "    <tr>\n",
       "      <th>695762.0</th>\n",
       "      <td>POLYGON ((1398733.468 416975.853, 1398794.240 ...</td>\n",
       "    </tr>\n",
       "    <tr>\n",
       "      <th>695780.0</th>\n",
       "      <td>POLYGON ((1399564.078 416046.633, 1399605.382 ...</td>\n",
       "    </tr>\n",
       "    <tr>\n",
       "      <th>695798.0</th>\n",
       "      <td>POLYGON ((1398841.243 416718.444, 1398733.468 ...</td>\n",
       "    </tr>\n",
       "    <tr>\n",
       "      <th>...</th>\n",
       "      <td>...</td>\n",
       "    </tr>\n",
       "    <tr>\n",
       "      <th>703629.0</th>\n",
       "      <td>POLYGON ((1401900.256 422880.130, 1401964.217 ...</td>\n",
       "    </tr>\n",
       "    <tr>\n",
       "      <th>703648.0</th>\n",
       "      <td>POLYGON ((1402856.266 422494.690, 1403591.085 ...</td>\n",
       "    </tr>\n",
       "    <tr>\n",
       "      <th>703666.0</th>\n",
       "      <td>POLYGON ((1402861.897 422749.576, 1402925.846 ...</td>\n",
       "    </tr>\n",
       "    <tr>\n",
       "      <th>703686.0</th>\n",
       "      <td>POLYGON ((1402709.472 423554.407, 1403020.559 ...</td>\n",
       "    </tr>\n",
       "    <tr>\n",
       "      <th>703708.0</th>\n",
       "      <td>POLYGON ((1402421.734 424653.671, 1402817.865 ...</td>\n",
       "    </tr>\n",
       "  </tbody>\n",
       "</table>\n",
       "<p>457 rows × 1 columns</p>\n",
       "</div>"
      ],
      "text/plain": [
       "                                                   geometry\n",
       "ID                                                         \n",
       "726907.0  POLYGON ((1407302.966 415693.734, 1407473.141 ...\n",
       "695744.0  POLYGON ((1398841.243 416718.444, 1399605.382 ...\n",
       "695762.0  POLYGON ((1398733.468 416975.853, 1398794.240 ...\n",
       "695780.0  POLYGON ((1399564.078 416046.633, 1399605.382 ...\n",
       "695798.0  POLYGON ((1398841.243 416718.444, 1398733.468 ...\n",
       "...                                                     ...\n",
       "703629.0  POLYGON ((1401900.256 422880.130, 1401964.217 ...\n",
       "703648.0  POLYGON ((1402856.266 422494.690, 1403591.085 ...\n",
       "703666.0  POLYGON ((1402861.897 422749.576, 1402925.846 ...\n",
       "703686.0  POLYGON ((1402709.472 423554.407, 1403020.559 ...\n",
       "703708.0  POLYGON ((1402421.734 424653.671, 1402817.865 ...\n",
       "\n",
       "[457 rows x 1 columns]"
      ]
     },
     "execution_count": 5,
     "metadata": {},
     "output_type": "execute_result"
    }
   ],
   "source": [
    "cincin_geoseries = cincin[['geometry']]\n",
    "cincin_geoseries"
   ]
  },
  {
   "cell_type": "markdown",
   "id": "5d800c3c",
   "metadata": {},
   "source": [
    "## Making the function work"
   ]
  },
  {
   "cell_type": "markdown",
   "id": "75e34fb6",
   "metadata": {},
   "source": [
    "The function is designed for you to input data in one of three ways - that are outlined below:"
   ]
  },
  {
   "cell_type": "markdown",
   "id": "e9e9cbe5",
   "metadata": {},
   "source": [
    "### 1. `kl_divergence_profile(populations = geodataframe)`\n",
    "A geodataframe can be used as the sole input to the function. However, for this to work as desired, it **must only contain** columns of the raw data for group counts (for ***cincin*** this is the ethnic groups) along with the geometry column. This geometry must be in polygon form or point form (of the centroid of each area."
   ]
  },
  {
   "cell_type": "code",
   "execution_count": 6,
   "id": "33036e31",
   "metadata": {},
   "outputs": [
    {
     "name": "stderr",
     "output_type": "stream",
     "text": [
      "<ipython-input-1-8d5700952c7a>:100: RuntimeWarning: invalid value encountered in true_divide\n",
      "  q_cumul_proportions = cumul_pop_by_group / obs_cumul_pop\n"
     ]
    },
    {
     "data": {
      "text/html": [
       "<div>\n",
       "<style scoped>\n",
       "    .dataframe tbody tr th:only-of-type {\n",
       "        vertical-align: middle;\n",
       "    }\n",
       "\n",
       "    .dataframe tbody tr th {\n",
       "        vertical-align: top;\n",
       "    }\n",
       "\n",
       "    .dataframe thead th {\n",
       "        text-align: right;\n",
       "    }\n",
       "</style>\n",
       "<table border=\"1\" class=\"dataframe\">\n",
       "  <thead>\n",
       "    <tr style=\"text-align: right;\">\n",
       "      <th></th>\n",
       "      <th>observation</th>\n",
       "      <th>distance</th>\n",
       "      <th>divergence</th>\n",
       "      <th>population_covered</th>\n",
       "    </tr>\n",
       "  </thead>\n",
       "  <tbody>\n",
       "    <tr>\n",
       "      <th>0</th>\n",
       "      <td>726907.0</td>\n",
       "      <td>0.000000</td>\n",
       "      <td>8.964293e-01</td>\n",
       "      <td>472.0</td>\n",
       "    </tr>\n",
       "    <tr>\n",
       "      <th>1</th>\n",
       "      <td>726907.0</td>\n",
       "      <td>674.319177</td>\n",
       "      <td>3.970494e-01</td>\n",
       "      <td>654.0</td>\n",
       "    </tr>\n",
       "    <tr>\n",
       "      <th>2</th>\n",
       "      <td>726907.0</td>\n",
       "      <td>755.315782</td>\n",
       "      <td>3.966244e-01</td>\n",
       "      <td>728.0</td>\n",
       "    </tr>\n",
       "    <tr>\n",
       "      <th>3</th>\n",
       "      <td>726907.0</td>\n",
       "      <td>830.744890</td>\n",
       "      <td>3.082997e-01</td>\n",
       "      <td>872.0</td>\n",
       "    </tr>\n",
       "    <tr>\n",
       "      <th>4</th>\n",
       "      <td>726907.0</td>\n",
       "      <td>1067.478163</td>\n",
       "      <td>3.110239e-01</td>\n",
       "      <td>981.0</td>\n",
       "    </tr>\n",
       "    <tr>\n",
       "      <th>...</th>\n",
       "      <td>...</td>\n",
       "      <td>...</td>\n",
       "      <td>...</td>\n",
       "      <td>...</td>\n",
       "    </tr>\n",
       "    <tr>\n",
       "      <th>452</th>\n",
       "      <td>703708.0</td>\n",
       "      <td>13063.729732</td>\n",
       "      <td>1.881053e-06</td>\n",
       "      <td>37805.0</td>\n",
       "    </tr>\n",
       "    <tr>\n",
       "      <th>453</th>\n",
       "      <td>703708.0</td>\n",
       "      <td>13099.457827</td>\n",
       "      <td>1.377660e-06</td>\n",
       "      <td>37874.0</td>\n",
       "    </tr>\n",
       "    <tr>\n",
       "      <th>454</th>\n",
       "      <td>703708.0</td>\n",
       "      <td>13163.435867</td>\n",
       "      <td>1.492472e-06</td>\n",
       "      <td>37919.0</td>\n",
       "    </tr>\n",
       "    <tr>\n",
       "      <th>455</th>\n",
       "      <td>703708.0</td>\n",
       "      <td>13170.741000</td>\n",
       "      <td>1.595123e-07</td>\n",
       "      <td>37963.0</td>\n",
       "    </tr>\n",
       "    <tr>\n",
       "      <th>456</th>\n",
       "      <td>703708.0</td>\n",
       "      <td>13223.508518</td>\n",
       "      <td>0.000000e+00</td>\n",
       "      <td>38012.0</td>\n",
       "    </tr>\n",
       "  </tbody>\n",
       "</table>\n",
       "<p>208849 rows × 4 columns</p>\n",
       "</div>"
      ],
      "text/plain": [
       "     observation      distance    divergence  population_covered\n",
       "0       726907.0      0.000000  8.964293e-01               472.0\n",
       "1       726907.0    674.319177  3.970494e-01               654.0\n",
       "2       726907.0    755.315782  3.966244e-01               728.0\n",
       "3       726907.0    830.744890  3.082997e-01               872.0\n",
       "4       726907.0   1067.478163  3.110239e-01               981.0\n",
       "..           ...           ...           ...                 ...\n",
       "452     703708.0  13063.729732  1.881053e-06             37805.0\n",
       "453     703708.0  13099.457827  1.377660e-06             37874.0\n",
       "454     703708.0  13163.435867  1.492472e-06             37919.0\n",
       "455     703708.0  13170.741000  1.595123e-07             37963.0\n",
       "456     703708.0  13223.508518  0.000000e+00             38012.0\n",
       "\n",
       "[208849 rows x 4 columns]"
      ]
     },
     "execution_count": 6,
     "metadata": {},
     "output_type": "execute_result"
    }
   ],
   "source": [
    "kl_divergence_profile(cincin_gdf)"
   ]
  },
  {
   "cell_type": "markdown",
   "id": "32ca3ac8",
   "metadata": {},
   "source": [
    "Here we have our first look at the output for the KL divergence profile function. This is four columns, containing:\n",
    "- **observation** - an identifier of the area that forms the centre of the aggregation of population, from which the divergence is calculated.\n",
    "- **distance** - how far the most recently aggregated area is from the 'observation' area, starting at zero for each observation to represent that the 'observation' area is the only one being aggregated.\n",
    "- **divergence** - the KL divergence measure, between the aggregated population and the total population, will converge to zero for the final row of each observation to represent that the total population is covered.\n",
    "- **nearby_population** - the population count within the aggregated population."
   ]
  },
  {
   "cell_type": "markdown",
   "id": "38b577b4",
   "metadata": {},
   "source": [
    "### 2. `kl_divergence_profile(populations = geodataframe[groups], coordinates = geodataframe.geometry.centroid)`\n",
    "If a geodataframe contains other columns, that are not desired to be used in the analysis - such as the original ***cincin*** dataset - this can be included as the input by subsetting only the columns that are desired.\n",
    "\n",
    "In order for this to work, the coordinates input must then be used to specify the spatial location of each observation. While point or polygon geoseries format can be passed, output from the geopandas `centroid` command will pass smoothly."
   ]
  },
  {
   "cell_type": "code",
   "execution_count": 7,
   "id": "e7efe4ca",
   "metadata": {},
   "outputs": [
    {
     "name": "stderr",
     "output_type": "stream",
     "text": [
      "<ipython-input-1-8d5700952c7a>:100: RuntimeWarning: invalid value encountered in true_divide\n",
      "  q_cumul_proportions = cumul_pop_by_group / obs_cumul_pop\n"
     ]
    },
    {
     "data": {
      "text/html": [
       "<div>\n",
       "<style scoped>\n",
       "    .dataframe tbody tr th:only-of-type {\n",
       "        vertical-align: middle;\n",
       "    }\n",
       "\n",
       "    .dataframe tbody tr th {\n",
       "        vertical-align: top;\n",
       "    }\n",
       "\n",
       "    .dataframe thead th {\n",
       "        text-align: right;\n",
       "    }\n",
       "</style>\n",
       "<table border=\"1\" class=\"dataframe\">\n",
       "  <thead>\n",
       "    <tr style=\"text-align: right;\">\n",
       "      <th></th>\n",
       "      <th>observation</th>\n",
       "      <th>distance</th>\n",
       "      <th>divergence</th>\n",
       "      <th>population_covered</th>\n",
       "    </tr>\n",
       "  </thead>\n",
       "  <tbody>\n",
       "    <tr>\n",
       "      <th>0</th>\n",
       "      <td>726907.0</td>\n",
       "      <td>0.000000</td>\n",
       "      <td>8.964293e-01</td>\n",
       "      <td>472.0</td>\n",
       "    </tr>\n",
       "    <tr>\n",
       "      <th>1</th>\n",
       "      <td>726907.0</td>\n",
       "      <td>674.319177</td>\n",
       "      <td>3.970494e-01</td>\n",
       "      <td>654.0</td>\n",
       "    </tr>\n",
       "    <tr>\n",
       "      <th>2</th>\n",
       "      <td>726907.0</td>\n",
       "      <td>755.315782</td>\n",
       "      <td>3.966244e-01</td>\n",
       "      <td>728.0</td>\n",
       "    </tr>\n",
       "    <tr>\n",
       "      <th>3</th>\n",
       "      <td>726907.0</td>\n",
       "      <td>830.744890</td>\n",
       "      <td>3.082997e-01</td>\n",
       "      <td>872.0</td>\n",
       "    </tr>\n",
       "    <tr>\n",
       "      <th>4</th>\n",
       "      <td>726907.0</td>\n",
       "      <td>1067.478163</td>\n",
       "      <td>3.110239e-01</td>\n",
       "      <td>981.0</td>\n",
       "    </tr>\n",
       "    <tr>\n",
       "      <th>...</th>\n",
       "      <td>...</td>\n",
       "      <td>...</td>\n",
       "      <td>...</td>\n",
       "      <td>...</td>\n",
       "    </tr>\n",
       "    <tr>\n",
       "      <th>452</th>\n",
       "      <td>703708.0</td>\n",
       "      <td>13063.729732</td>\n",
       "      <td>1.881053e-06</td>\n",
       "      <td>37805.0</td>\n",
       "    </tr>\n",
       "    <tr>\n",
       "      <th>453</th>\n",
       "      <td>703708.0</td>\n",
       "      <td>13099.457827</td>\n",
       "      <td>1.377660e-06</td>\n",
       "      <td>37874.0</td>\n",
       "    </tr>\n",
       "    <tr>\n",
       "      <th>454</th>\n",
       "      <td>703708.0</td>\n",
       "      <td>13163.435867</td>\n",
       "      <td>1.492472e-06</td>\n",
       "      <td>37919.0</td>\n",
       "    </tr>\n",
       "    <tr>\n",
       "      <th>455</th>\n",
       "      <td>703708.0</td>\n",
       "      <td>13170.741000</td>\n",
       "      <td>1.595123e-07</td>\n",
       "      <td>37963.0</td>\n",
       "    </tr>\n",
       "    <tr>\n",
       "      <th>456</th>\n",
       "      <td>703708.0</td>\n",
       "      <td>13223.508518</td>\n",
       "      <td>0.000000e+00</td>\n",
       "      <td>38012.0</td>\n",
       "    </tr>\n",
       "  </tbody>\n",
       "</table>\n",
       "<p>208849 rows × 4 columns</p>\n",
       "</div>"
      ],
      "text/plain": [
       "     observation      distance    divergence  population_covered\n",
       "0       726907.0      0.000000  8.964293e-01               472.0\n",
       "1       726907.0    674.319177  3.970494e-01               654.0\n",
       "2       726907.0    755.315782  3.966244e-01               728.0\n",
       "3       726907.0    830.744890  3.082997e-01               872.0\n",
       "4       726907.0   1067.478163  3.110239e-01               981.0\n",
       "..           ...           ...           ...                 ...\n",
       "452     703708.0  13063.729732  1.881053e-06             37805.0\n",
       "453     703708.0  13099.457827  1.377660e-06             37874.0\n",
       "454     703708.0  13163.435867  1.492472e-06             37919.0\n",
       "455     703708.0  13170.741000  1.595123e-07             37963.0\n",
       "456     703708.0  13223.508518  0.000000e+00             38012.0\n",
       "\n",
       "[208849 rows x 4 columns]"
      ]
     },
     "execution_count": 7,
     "metadata": {},
     "output_type": "execute_result"
    }
   ],
   "source": [
    "kl_divergence_profile(populations = cincin_gdf[[\"WHITE\", \"BLACK\", \"AMINDIAN\", \"ASIAN\", \"HAWAIIAN\", \"OTHER_RACE\"]],\n",
    "                     coordinates = cincin_gdf[[\"geometry\"]].centroid)"
   ]
  },
  {
   "cell_type": "markdown",
   "id": "0f6fdae3",
   "metadata": {},
   "source": [
    "The function will also run if the geometry polygon information is inputted into the *coordinates* argument - without being converted into centroid points. If this is done, the `centroid` command is ran as part of the function to distinguish a point against which distance is calculated.\n",
    "\n",
    "i.e: an alternative input is\n",
    "\n",
    "`kl_divergence_profile(populations = cincin_gdf[[\"WHITE\", \"BLACK\", \"AMINDIAN\", \"ASIAN\", \"HAWAIIAN\", \"OTHER_RACE\"]], coordinates = cincin_gdf[[\"geometry\"]])`"
   ]
  },
  {
   "cell_type": "markdown",
   "id": "ae40db45",
   "metadata": {},
   "source": [
    "### 3. `kl_divergence_profile(populations = dataframe, coordinates = geoseries)`\n",
    "If the population data is contained in a separate object to the spatial, geoseries information - as long as the indexing (order) of both datasets is consistent - they can be inputted separately into the function."
   ]
  },
  {
   "cell_type": "code",
   "execution_count": 8,
   "id": "303449ae",
   "metadata": {},
   "outputs": [
    {
     "name": "stderr",
     "output_type": "stream",
     "text": [
      "<ipython-input-1-8d5700952c7a>:100: RuntimeWarning: invalid value encountered in true_divide\n",
      "  q_cumul_proportions = cumul_pop_by_group / obs_cumul_pop\n"
     ]
    },
    {
     "data": {
      "text/html": [
       "<div>\n",
       "<style scoped>\n",
       "    .dataframe tbody tr th:only-of-type {\n",
       "        vertical-align: middle;\n",
       "    }\n",
       "\n",
       "    .dataframe tbody tr th {\n",
       "        vertical-align: top;\n",
       "    }\n",
       "\n",
       "    .dataframe thead th {\n",
       "        text-align: right;\n",
       "    }\n",
       "</style>\n",
       "<table border=\"1\" class=\"dataframe\">\n",
       "  <thead>\n",
       "    <tr style=\"text-align: right;\">\n",
       "      <th></th>\n",
       "      <th>observation</th>\n",
       "      <th>distance</th>\n",
       "      <th>divergence</th>\n",
       "      <th>population_covered</th>\n",
       "    </tr>\n",
       "  </thead>\n",
       "  <tbody>\n",
       "    <tr>\n",
       "      <th>0</th>\n",
       "      <td>726907.0</td>\n",
       "      <td>0.000000</td>\n",
       "      <td>8.964293e-01</td>\n",
       "      <td>472.0</td>\n",
       "    </tr>\n",
       "    <tr>\n",
       "      <th>1</th>\n",
       "      <td>726907.0</td>\n",
       "      <td>674.319177</td>\n",
       "      <td>3.970494e-01</td>\n",
       "      <td>654.0</td>\n",
       "    </tr>\n",
       "    <tr>\n",
       "      <th>2</th>\n",
       "      <td>726907.0</td>\n",
       "      <td>755.315782</td>\n",
       "      <td>3.966244e-01</td>\n",
       "      <td>728.0</td>\n",
       "    </tr>\n",
       "    <tr>\n",
       "      <th>3</th>\n",
       "      <td>726907.0</td>\n",
       "      <td>830.744890</td>\n",
       "      <td>3.082997e-01</td>\n",
       "      <td>872.0</td>\n",
       "    </tr>\n",
       "    <tr>\n",
       "      <th>4</th>\n",
       "      <td>726907.0</td>\n",
       "      <td>1067.478163</td>\n",
       "      <td>3.110239e-01</td>\n",
       "      <td>981.0</td>\n",
       "    </tr>\n",
       "    <tr>\n",
       "      <th>...</th>\n",
       "      <td>...</td>\n",
       "      <td>...</td>\n",
       "      <td>...</td>\n",
       "      <td>...</td>\n",
       "    </tr>\n",
       "    <tr>\n",
       "      <th>452</th>\n",
       "      <td>703708.0</td>\n",
       "      <td>13063.729732</td>\n",
       "      <td>1.881053e-06</td>\n",
       "      <td>37805.0</td>\n",
       "    </tr>\n",
       "    <tr>\n",
       "      <th>453</th>\n",
       "      <td>703708.0</td>\n",
       "      <td>13099.457827</td>\n",
       "      <td>1.377660e-06</td>\n",
       "      <td>37874.0</td>\n",
       "    </tr>\n",
       "    <tr>\n",
       "      <th>454</th>\n",
       "      <td>703708.0</td>\n",
       "      <td>13163.435867</td>\n",
       "      <td>1.492472e-06</td>\n",
       "      <td>37919.0</td>\n",
       "    </tr>\n",
       "    <tr>\n",
       "      <th>455</th>\n",
       "      <td>703708.0</td>\n",
       "      <td>13170.741000</td>\n",
       "      <td>1.595123e-07</td>\n",
       "      <td>37963.0</td>\n",
       "    </tr>\n",
       "    <tr>\n",
       "      <th>456</th>\n",
       "      <td>703708.0</td>\n",
       "      <td>13223.508518</td>\n",
       "      <td>0.000000e+00</td>\n",
       "      <td>38012.0</td>\n",
       "    </tr>\n",
       "  </tbody>\n",
       "</table>\n",
       "<p>208849 rows × 4 columns</p>\n",
       "</div>"
      ],
      "text/plain": [
       "     observation      distance    divergence  population_covered\n",
       "0       726907.0      0.000000  8.964293e-01               472.0\n",
       "1       726907.0    674.319177  3.970494e-01               654.0\n",
       "2       726907.0    755.315782  3.966244e-01               728.0\n",
       "3       726907.0    830.744890  3.082997e-01               872.0\n",
       "4       726907.0   1067.478163  3.110239e-01               981.0\n",
       "..           ...           ...           ...                 ...\n",
       "452     703708.0  13063.729732  1.881053e-06             37805.0\n",
       "453     703708.0  13099.457827  1.377660e-06             37874.0\n",
       "454     703708.0  13163.435867  1.492472e-06             37919.0\n",
       "455     703708.0  13170.741000  1.595123e-07             37963.0\n",
       "456     703708.0  13223.508518  0.000000e+00             38012.0\n",
       "\n",
       "[208849 rows x 4 columns]"
      ]
     },
     "execution_count": 8,
     "metadata": {},
     "output_type": "execute_result"
    }
   ],
   "source": [
    "kl_divergence_profile(populations = cincin_df, coordinates = cincin_geoseries)"
   ]
  },
  {
   "cell_type": "markdown",
   "id": "05b619f8",
   "metadata": {},
   "source": [
    "For those of you on-the-ball, you may notice that this input is rather similar to that suggested as an alternative input to step 2 - the data inputted is exactly the same in this case.\n",
    "\n",
    "However, due to the available format of your own data, or purely due to personal preference, you may prefer to input two separate objects to the *populations* and *coordinates* arguments."
   ]
  },
  {
   "cell_type": "markdown",
   "id": "a26c3964",
   "metadata": {},
   "source": [
    "## Using the outputs"
   ]
  },
  {
   "cell_type": "code",
   "execution_count": 9,
   "id": "1d97366a",
   "metadata": {
    "scrolled": true
   },
   "outputs": [
    {
     "name": "stderr",
     "output_type": "stream",
     "text": [
      "<ipython-input-1-8d5700952c7a>:100: RuntimeWarning: invalid value encountered in true_divide\n",
      "  q_cumul_proportions = cumul_pop_by_group / obs_cumul_pop\n"
     ]
    }
   ],
   "source": [
    "cincin_kl_divergence = kl_divergence_profile(cincin_gdf)"
   ]
  },
  {
   "cell_type": "code",
   "execution_count": 10,
   "id": "59a1ffc1",
   "metadata": {},
   "outputs": [
    {
     "data": {
      "text/plain": [
       "<AxesSubplot:xlabel='distance'>"
      ]
     },
     "execution_count": 10,
     "metadata": {},
     "output_type": "execute_result"
    },
    {
     "data": {
      "image/png": "[encoded data removed]",
      "text/plain": [
       "<Figure size 432x288 with 1 Axes>"
      ]
     },
     "metadata": {
      "needs_background": "light"
     },
     "output_type": "display_data"
    }
   ],
   "source": [
    "cincin_kl_divergence.plot(\"distance\", \"divergence\")"
   ]
  },
  {
   "cell_type": "code",
   "execution_count": 11,
   "id": "48134eda",
   "metadata": {
    "scrolled": true
   },
   "outputs": [],
   "source": [
    "cincin_kl_divergence = cincin_kl_divergence.groupby('observation').first().reset_index()"
   ]
  },
  {
   "cell_type": "code",
   "execution_count": 12,
   "id": "72614e90",
   "metadata": {},
   "outputs": [
    {
     "data": {
      "text/html": [
       "<div>\n",
       "<style scoped>\n",
       "    .dataframe tbody tr th:only-of-type {\n",
       "        vertical-align: middle;\n",
       "    }\n",
       "\n",
       "    .dataframe tbody tr th {\n",
       "        vertical-align: top;\n",
       "    }\n",
       "\n",
       "    .dataframe thead th {\n",
       "        text-align: right;\n",
       "    }\n",
       "</style>\n",
       "<table border=\"1\" class=\"dataframe\">\n",
       "  <thead>\n",
       "    <tr style=\"text-align: right;\">\n",
       "      <th></th>\n",
       "      <th>observation</th>\n",
       "      <th>distance</th>\n",
       "      <th>divergence</th>\n",
       "      <th>population_covered</th>\n",
       "      <th>geometry</th>\n",
       "    </tr>\n",
       "  </thead>\n",
       "  <tbody>\n",
       "    <tr>\n",
       "      <th>0</th>\n",
       "      <td>654795.0</td>\n",
       "      <td>0.0</td>\n",
       "      <td>0.142210</td>\n",
       "      <td>69.0</td>\n",
       "      <td>POLYGON ((1398269.926 411448.786, 1398333.955 ...</td>\n",
       "    </tr>\n",
       "    <tr>\n",
       "      <th>1</th>\n",
       "      <td>654816.0</td>\n",
       "      <td>0.0</td>\n",
       "      <td>0.060205</td>\n",
       "      <td>49.0</td>\n",
       "      <td>POLYGON ((1397564.804 411646.644, 1397600.475 ...</td>\n",
       "    </tr>\n",
       "    <tr>\n",
       "      <th>2</th>\n",
       "      <td>654853.0</td>\n",
       "      <td>0.0</td>\n",
       "      <td>0.210239</td>\n",
       "      <td>0.0</td>\n",
       "      <td>POLYGON ((1397634.522 412227.972, 1397580.224 ...</td>\n",
       "    </tr>\n",
       "    <tr>\n",
       "      <th>3</th>\n",
       "      <td>654869.0</td>\n",
       "      <td>0.0</td>\n",
       "      <td>0.189339</td>\n",
       "      <td>44.0</td>\n",
       "      <td>POLYGON ((1397788.495 411495.938, 1397826.597 ...</td>\n",
       "    </tr>\n",
       "    <tr>\n",
       "      <th>4</th>\n",
       "      <td>654889.0</td>\n",
       "      <td>0.0</td>\n",
       "      <td>0.210239</td>\n",
       "      <td>142.0</td>\n",
       "      <td>POLYGON ((1397634.522 412227.972, 1397695.312 ...</td>\n",
       "    </tr>\n",
       "    <tr>\n",
       "      <th>...</th>\n",
       "      <td>...</td>\n",
       "      <td>...</td>\n",
       "      <td>...</td>\n",
       "      <td>...</td>\n",
       "      <td>...</td>\n",
       "    </tr>\n",
       "    <tr>\n",
       "      <th>452</th>\n",
       "      <td>739686.0</td>\n",
       "      <td>0.0</td>\n",
       "      <td>1.244836</td>\n",
       "      <td>45.0</td>\n",
       "      <td>POLYGON ((1410127.237 417672.072, 1410268.460 ...</td>\n",
       "    </tr>\n",
       "    <tr>\n",
       "      <th>453</th>\n",
       "      <td>741823.0</td>\n",
       "      <td>0.0</td>\n",
       "      <td>0.934698</td>\n",
       "      <td>29.0</td>\n",
       "      <td>POLYGON ((1410140.124 416441.192, 1410495.720 ...</td>\n",
       "    </tr>\n",
       "    <tr>\n",
       "      <th>454</th>\n",
       "      <td>741843.0</td>\n",
       "      <td>0.0</td>\n",
       "      <td>0.945546</td>\n",
       "      <td>256.0</td>\n",
       "      <td>POLYGON ((1408692.225 416938.374, 1408734.116 ...</td>\n",
       "    </tr>\n",
       "    <tr>\n",
       "      <th>455</th>\n",
       "      <td>741889.0</td>\n",
       "      <td>0.0</td>\n",
       "      <td>1.244836</td>\n",
       "      <td>10.0</td>\n",
       "      <td>POLYGON ((1411000.065 417361.617, 1411163.889 ...</td>\n",
       "    </tr>\n",
       "    <tr>\n",
       "      <th>456</th>\n",
       "      <td>741903.0</td>\n",
       "      <td>0.0</td>\n",
       "      <td>0.276574</td>\n",
       "      <td>357.0</td>\n",
       "      <td>POLYGON ((1410268.460 418944.037, 1410337.877 ...</td>\n",
       "    </tr>\n",
       "  </tbody>\n",
       "</table>\n",
       "<p>457 rows × 5 columns</p>\n",
       "</div>"
      ],
      "text/plain": [
       "     observation  distance  divergence  population_covered  \\\n",
       "0       654795.0       0.0    0.142210                69.0   \n",
       "1       654816.0       0.0    0.060205                49.0   \n",
       "2       654853.0       0.0    0.210239                 0.0   \n",
       "3       654869.0       0.0    0.189339                44.0   \n",
       "4       654889.0       0.0    0.210239               142.0   \n",
       "..           ...       ...         ...                 ...   \n",
       "452     739686.0       0.0    1.244836                45.0   \n",
       "453     741823.0       0.0    0.934698                29.0   \n",
       "454     741843.0       0.0    0.945546               256.0   \n",
       "455     741889.0       0.0    1.244836                10.0   \n",
       "456     741903.0       0.0    0.276574               357.0   \n",
       "\n",
       "                                              geometry  \n",
       "0    POLYGON ((1398269.926 411448.786, 1398333.955 ...  \n",
       "1    POLYGON ((1397564.804 411646.644, 1397600.475 ...  \n",
       "2    POLYGON ((1397634.522 412227.972, 1397580.224 ...  \n",
       "3    POLYGON ((1397788.495 411495.938, 1397826.597 ...  \n",
       "4    POLYGON ((1397634.522 412227.972, 1397695.312 ...  \n",
       "..                                                 ...  \n",
       "452  POLYGON ((1410127.237 417672.072, 1410268.460 ...  \n",
       "453  POLYGON ((1410140.124 416441.192, 1410495.720 ...  \n",
       "454  POLYGON ((1408692.225 416938.374, 1408734.116 ...  \n",
       "455  POLYGON ((1411000.065 417361.617, 1411163.889 ...  \n",
       "456  POLYGON ((1410268.460 418944.037, 1410337.877 ...  \n",
       "\n",
       "[457 rows x 5 columns]"
      ]
     },
     "execution_count": 12,
     "metadata": {},
     "output_type": "execute_result"
    }
   ],
   "source": [
    "cincin_kl_divergence = cincin_kl_divergence.merge(cincin_geoseries, left_on = 'observation', right_on = 'ID')\n",
    "cincin_kl_divergence"
   ]
  },
  {
   "cell_type": "code",
   "execution_count": 13,
   "id": "7dec92b3",
   "metadata": {},
   "outputs": [
    {
     "data": {
      "text/plain": [
       "<AxesSubplot:>"
      ]
     },
     "execution_count": 13,
     "metadata": {},
     "output_type": "execute_result"
    },
    {
     "data": {
      "image/png": "[encoded data removed]",
      "text/plain": [
       "<Figure size 432x288 with 1 Axes>"
      ]
     },
     "metadata": {
      "needs_background": "light"
     },
     "output_type": "display_data"
    }
   ],
   "source": [
    "from matplotlib.pyplot import plot\n",
    "\n",
    "cincin_kl_divergence.plot()"
   ]
  },
  {
   "cell_type": "markdown",
   "id": "09ccda2a",
   "metadata": {},
   "source": [
    "## How the function works\n",
    "Here the code will be broken down into its constituent parts, in order to explain how it works to create the complete `kl_divergence_profile` function."
   ]
  },
  {
   "cell_type": "markdown",
   "id": "b2f0afa1",
   "metadata": {},
   "source": [
    "### The bigger picture\n",
    "\n",
    "The methodology suggested by [Olteanu et al. (2019)](https://doi.org/10.1073/pnas.1900192116) inventively calculates consecutive divergence levels in relation to a chosen area within a city.\n",
    "\n",
    "To do this, the KL divergence calculations consectively aggregate more and more population. This aggregation starts by including solely the population of this chosen area, then including populations of the closest neighbour to the chosen area, followed by the next closest neighbour, and so on until the population of the whole city is analysed.\n",
    "\n",
    "The result is a profile of divergence levels that represents an aggregation of population gradually from this chosen area, showing how the dynamics of a population change as you consider areas covering a larger and larger distance from this chosen area.\n",
    "\n",
    "Once this has been undertaken for a single chosen area, it can be repeated for every other area within the city.\n",
    "\n",
    "When analysed on this scale, this gives a more nuanced picture of which areas of a city closest represent the total population of the city, and vice versa which areas are most different to the total population of the city; along with their spatial relationships."
   ]
  },
  {
   "cell_type": "markdown",
   "id": "84822e09",
   "metadata": {},
   "source": [
    "### Managing inputs\n",
    "First, as there are different forms of input possible, they need to be managed into a consistent form that will eventually be used to calculate the KL divergence."
   ]
  },
  {
   "cell_type": "markdown",
   "id": "d030cd1b",
   "metadata": {},
   "source": [
    "As a reminder, this function currently has three arguments that you can use to tailor it to your own data:\n",
    "\n",
    "```python\n",
    "def kl_divergence_profile(populations, coordinates = None, metric = 'euclidean'):\n",
    "```"
   ]
  },
  {
   "cell_type": "markdown",
   "id": "2b63e90f",
   "metadata": {},
   "source": [
    "Where:\n",
    "- ***populations*** - is data regarding each group within the population information to be included in the analysis (in raw numbers, not percentages)\n",
    "- ***coordinates*** - is the spatial information, relating to the population information  inputted within the *populations* argument\n",
    "- ***metric*** - the style of distance metric to be used in calculating the distances between areas, such that they can be ordered"
   ]
  },
  {
   "cell_type": "markdown",
   "id": "d50ce74d",
   "metadata": {},
   "source": [
    "#### Storing indices"
   ]
  },
  {
   "cell_type": "markdown",
   "id": "b632388d",
   "metadata": {},
   "source": [
    "If the *populations* input contains an [index](https://pandas.pydata.org/docs/reference/api/pandas.DataFrame.set_index.html), then it is stored, such that the results can be related to the inputted data more easily. If not, an array is created to take this place."
   ]
  },
  {
   "cell_type": "markdown",
   "id": "e65b77f8",
   "metadata": {},
   "source": [
    "```python\n",
    "    # Store the observation index to return with the results\n",
    "    if hasattr(populations, 'index'):\n",
    "        indices = populations.index\n",
    "    else:\n",
    "        indices = np.arange(len(populations))\n",
    "```"
   ]
  },
  {
   "cell_type": "markdown",
   "id": "81443f75",
   "metadata": {},
   "source": [
    "#### Creating *coordinates* from a geodataframe input to *populations*"
   ]
  },
  {
   "cell_type": "markdown",
   "id": "9de9ddd2",
   "metadata": {},
   "source": [
    "If the *populations* input has a geometry attribute, and there is no *coordinates* input, then the geometry of the *populations* input is passed as the *coordinates* input. The *populations* input is then stripped of its geometry attribute, and converted into an array."
   ]
  },
  {
   "cell_type": "markdown",
   "id": "f77e2bd6",
   "metadata": {},
   "source": [
    "```python\n",
    "    # Check for geometry present in populations argument\n",
    "    if hasattr(populations, 'geometry'):\n",
    "        if coordinates is None:\n",
    "            coordinates = populations.geometry\n",
    "        populations = populations.drop(populations.geometry.name, axis = 1).values\n",
    "    populations = np.asarray(populations)\n",
    "```"
   ]
  },
  {
   "cell_type": "markdown",
   "id": "afcdc4dc",
   "metadata": {},
   "source": [
    "#### Ensuring *coordinates* is centroid's coordinates"
   ]
  },
  {
   "cell_type": "markdown",
   "id": "1760f7d2",
   "metadata": {},
   "source": [
    "Regardless whether the *coordinates* input has a point or polygon geometry attribute, the `centroid` of each observation is calculated and re-stored as *coordinates* in a two column array, representing the *x* and *y* values.\n",
    "\n",
    "A test is inputted into this using a *else* clause, whereby if the *coordinates* and *populations* inputs are not of equal length, then the user is warned of this."
   ]
  },
  {
   "cell_type": "markdown",
   "id": "fbeee169",
   "metadata": {},
   "source": [
    "```python\n",
    "    #  Creating consistent coordinates - GeoSeries input\n",
    "    if hasattr(coordinates,'geometry'):\n",
    "        centroids = coordinates.geometry.centroid\n",
    "        coordinates = np.column_stack((centroids.x, centroids.y))\n",
    "    #  Creating consistent coordinates - Array input\n",
    "    else:\n",
    "        assert len(coordinates) == len(populations), \"Length of coordinates input needs to be of the same length as populations input\"\n",
    "```"
   ]
  },
  {
   "cell_type": "markdown",
   "id": "c11b1773",
   "metadata": {},
   "source": [
    "### Creating a distance matrix\n",
    "Having managed the inputs, we have to think about how we want the KL divergence levels to be calculated.\n",
    "\n",
    "To create this a divergence profile over space, we first need to be able to sort the inputted data in terms of their proximity to the chosen area of the analysis.\n",
    "\n",
    "A distance matrix is therefore created, to store the distances between each observation and every other observation. This uses the [`pdist`](https://docs.scipy.org/doc/scipy/reference/generated/scipy.spatial.distance.pdist.html) function from *scipy.spatial.distance* to compute this, using the optional *metric* argument from the input of the function.\n",
    "\n",
    "This calculates the Euclidean (also known as Pythagorean) distance between all the points by default, but could be altered as desired by the user using the *metric* input."
   ]
  },
  {
   "cell_type": "markdown",
   "id": "d283b7dc",
   "metadata": {},
   "source": [
    "``` python\n",
    "    # Creating distance matrix using defined metric (default euclidean distance)\n",
    "    dist_matrix = squareform(pdist(coordinates, metric = metric))\n",
    "```"
   ]
  },
  {
   "cell_type": "markdown",
   "id": "54fb420c",
   "metadata": {},
   "source": [
    "### Creating a list for the results\n",
    "This is purely a piece of admin to open a list, such that the results can be filled into this (currently empty) list later in the function."
   ]
  },
  {
   "cell_type": "markdown",
   "id": "32e594c9",
   "metadata": {},
   "source": [
    "``` python\n",
    "    # Preparing list for results\n",
    "    results = []\n",
    "```"
   ]
  },
  {
   "cell_type": "markdown",
   "id": "484498ab",
   "metadata": {},
   "source": [
    "### Undertaking the loop"
   ]
  },
  {
   "cell_type": "markdown",
   "id": "6f701536",
   "metadata": {},
   "source": [
    "#### Part A - Sorting the population information by the distance matrix"
   ]
  },
  {
   "cell_type": "markdown",
   "id": "7d54b76b",
   "metadata": {},
   "source": [
    "In order to undertake all of the statistical work with regards to the *populations* input, the data must first be ordered by the distance matrix, which has been created above.\n",
    "\n",
    "For instance - when the *metric* is set to Euclidean - for an example observation '*A*', sorting by the distance matrix will return the *populations* information ordered from closest observation to the furthest observation, all with respect to observation *A*."
   ]
  },
  {
   "cell_type": "markdown",
   "id": "f7dadb4f",
   "metadata": {},
   "source": [
    "``` python\n",
    "    # Loop to calculate KL divergence\n",
    "    for (i, distances) in enumerate(dist_matrix):\n",
    "\n",
    "        # Creating the q and r objects\n",
    "        sorted_indices = np.argsort(distances)\n",
    "```"
   ]
  },
  {
   "cell_type": "markdown",
   "id": "1e756902",
   "metadata": {},
   "source": [
    "The `sorted_indices` can then be used as a method of ordering the *populations* object, which we will see in the next part of the loop."
   ]
  },
  {
   "cell_type": "markdown",
   "id": "41ae92b9",
   "metadata": {},
   "source": [
    "#### Part B - Preparing the inputs to calculate the KL divergence\n",
    "With the end goal of this function being is to calculate the KL divergence - specific inputs for this calculation must be created."
   ]
  },
  {
   "cell_type": "markdown",
   "id": "e0db6235",
   "metadata": {},
   "source": [
    "In the article, Olteanu et al. state that\n",
    "> $\\text{\"}$ The KL divergence between two multinomial distributions (*$\\space q_1, \\space ... \\space , q_k$* ) , (*$\\space r_1, \\space ... \\space , r_k$* ) is defined as:\n",
    "> $$ d_{KL}(q \\space|\\space r) = \\sum_{i=1}^{k} q_i \\space ln \\space{{q_i} \\over {r_i}} \\space \\space \\text{\"}  $$\n",
    "> [Olteanu et al. (pg. 12250, 2019)](https://doi.org/10.1073/pnas.1900192116)\n",
    "\n",
    "When applied in practice, we create statistics from the distributions such that\n",
    "\n",
    "$$ ln \\space {{q_i} \\over {r_i}} \\space = \\space ln \\space {{{{cumulative \\space proportions}\\space_i}} \\over {{total \\space proportions}\\space_i}} $$ "
   ]
  },
  {
   "cell_type": "markdown",
   "id": "230dbde8",
   "metadata": {},
   "source": [
    "The *culmulative proportions* and *total proportions* objects are the inputs that will be used to calculate the KL divergence for each area.\n",
    "\n",
    "- **cumulative proportions** - culmulatively aggregating with respect to the chosen area, the proportion (percentage) that each group represents\n",
    "- **total proportions** - the proportions (percentages) each group represents in the total population, placed into an ordered list"
   ]
  },
  {
   "cell_type": "markdown",
   "id": "16bba0c8",
   "metadata": {},
   "source": [
    "Therefore, to calculate *cumulative proportions* (`q_cumul_proportions`), the objects representing the culmulative group populations (`cumul_pop_by_group`) and culmulative total populations (`obs_cumul_pop`) are created."
   ]
  },
  {
   "cell_type": "markdown",
   "id": "855fdcc7",
   "metadata": {},
   "source": [
    "``` python\n",
    "        cumul_pop_by_group = np.cumsum(populations[sorted_indices], axis = 0)\n",
    "        obs_cumul_pop = np.sum(cumul_pop_by_group, axis = 1)[:, np.newaxis]\n",
    "        q_cumul_proportions = cumul_pop_by_group / obs_cumul_pop\n",
    "```"
   ]
  },
  {
   "cell_type": "markdown",
   "id": "1a44f7f2",
   "metadata": {},
   "source": [
    "To calculate *total proportions* (`r_total_proportions`), the objects representing the total group populations (`total_pop_by_group`) and total populations (`total_pop`) are created"
   ]
  },
  {
   "cell_type": "markdown",
   "id": "8bdb98ef",
   "metadata": {},
   "source": [
    "``` python\n",
    "        total_pop_by_group = np.sum(populations, axis = 0, keepdims = True)\n",
    "        total_pop = np.sum(populations)\n",
    "        r_total_proportions = total_pop_by_group / total_pop\n",
    "```"
   ]
  },
  {
   "cell_type": "markdown",
   "id": "92d7e123",
   "metadata": {},
   "source": [
    "#### Part C - Calculating the KL divergence\n",
    "To calculate the KL divergence profile, the two objects created to form the *q* and *r* elements of the formula are inputted into the [`scipy.special.rel_entr`](https://docs.scipy.org/doc/scipy/reference/reference/generated/scipy.special.rel_entr.html) function.\n",
    "\n",
    "While a [`scipy.special.kl_div`](https://docs.scipy.org/doc/scipy/reference/reference/generated/scipy.special.kl_div.html#scipy.special.kl_div) also exists - and might be thought to be the obvious choice - the relative entropy function contains beneficial functionality for this use-case as a result of its handling of $ln(0)$, where it bends the rule of mathematics to return $0$ instead of $- \\infty$. For measuring population statistics, this makes a lot more logical sense."
   ]
  },
  {
   "cell_type": "markdown",
   "id": "eb1d45c8",
   "metadata": {},
   "source": [
    "``` python\n",
    "        # Input q and r objects into relative entropy (KL divergence) function\n",
    "        kl_divergence = relative_entropy(q_cumul_proportions,\n",
    "                                         r_total_proportions).sum(axis = 1)\n",
    "```"
   ]
  },
  {
   "cell_type": "markdown",
   "id": "0e43b888",
   "metadata": {},
   "source": [
    "####  Part D - Placing the outputs into a dataframe\n",
    "Now we have undertaken all the calculations, a dataframe for the outputs can be constructed, returning the four outputs we have [already discussed](#1.-kl_divergence_profile(populations-=-geodataframe))."
   ]
  },
  {
   "cell_type": "markdown",
   "id": "81465ab2",
   "metadata": {},
   "source": [
    "``` python\n",
    "        # Creating an output dataframe\n",
    "        output = pd.DataFrame().from_dict(dict(\n",
    "            observation = indices[i],\n",
    "            distance = distances[sorted_indices],\n",
    "            divergence = kl_divergence,\n",
    "            population_covered = obs_cumul_pop.sum(axis=1)\n",
    "        ))\n",
    "```"
   ]
  },
  {
   "cell_type": "markdown",
   "id": "e106d52b",
   "metadata": {},
   "source": [
    "### Bringing all the dataframes together\n",
    "Finally, the *output* dataframes relating to each observation are brought together and concatenated (stacked) using the [`pandas.concat`](https://pandas.pydata.org/docs/reference/api/pandas.concat.html) function to return our full output. Designed to be deconstructed, broken down and used for visualisations and further analysis."
   ]
  },
  {
   "cell_type": "markdown",
   "id": "bd1a082d",
   "metadata": {},
   "source": [
    "``` python\n",
    "        # Append (bring together) all outputs into results list\n",
    "        results.append(output)\n",
    "\n",
    "    return(pd.concat(results))\n",
    "```"
   ]
  }
 ],
 "metadata": {
  "kernelspec": {
   "display_name": "geo_env",
   "language": "python",
   "name": "geo_env"
  },
  "language_info": {
   "codemirror_mode": {
    "name": "ipython",
    "version": 3
   },
   "file_extension": ".py",
   "mimetype": "text/x-python",
   "name": "python",
   "nbconvert_exporter": "python",
   "pygments_lexer": "ipython3",
   "version": "3.9.5"
  }
 },
 "nbformat": 4,
 "nbformat_minor": 5
}
